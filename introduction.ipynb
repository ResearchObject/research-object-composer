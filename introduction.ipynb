{
 "cells": [
  {
   "cell_type": "markdown",
   "metadata": {},
   "source": [
    "# Research Object Composer tutorial\n",
    "\n",
    "This is a [Jupyter Notebook](https://jupyter.org/) demonstrating how a client can use the [Research Object Composer](https://github.com/researchobject/research-object-composer) REST API.\n",
    "\n",
    "For requirements to run this notebook interactively, see the [README](https://github.com/ResearchObject/research-object-composer/blob/master/README.md). \n",
    "\n",
    "The [RO Composer API](https://researchobject.github.io/research-object-composer/api/) is documented using [Swagger OpenAPI](https://swagger.io/docs/specification/about/) 2.0, which means the REST API can be integrated into programming languages, however this notebook uses [Python](https://www.python.org/) to not hide too much of the HTTP details.\n",
    "\n",
    "To execute each cell when running this notebook, select each in order, then click the **▶️Run** button above.\n",
    "\n",
    "## Python requirements\n",
    "\n",
    "For the below examples we'll use the Python library [requests](https://pypi.org/project/requests/) to show the HTTP  interactions. Below assumes a basic knowledge of [REST services](https://en.wikipedia.org/wiki/Representational_state_transfer).\n",
    "\n",
    "If the below `import` does not work, try on the command line where you started Jupyter Notebook: `pip install requests`"
   ]
  },
  {
   "cell_type": "code",
   "execution_count": 141,
   "metadata": {},
   "outputs": [],
   "source": [
    "import requests"
   ]
  },
  {
   "cell_type": "markdown",
   "metadata": {},
   "source": [
    "RO Composer is meant to be installed on a local infrastructure or as a cloud service. The below uses a demo service hosted by The University of Manchester why is not supported and may become unavailable in the future.\n",
    "\n",
    "If you are testing the service locally using _Docker Compose_ (see [README](https://github.com/ResearchObject/research-object-composer/blob/master/README.md)) - change below to `http://localhost:8080` or use equivalent server name if you are hosting it as a cloud service."
   ]
  },
  {
   "cell_type": "code",
   "execution_count": 142,
   "metadata": {},
   "outputs": [],
   "source": [
    "host = \"http://openphacts.cs.man.ac.uk:8080\""
   ]
  },
  {
   "cell_type": "markdown",
   "metadata": {},
   "source": [
    "## Profiles\n",
    "\n",
    "The RO Composer supports creating research object for multiple **profiles**. Each profile is [defined internally](https://github.com/ResearchObject/research-object-composer/tree/master/src/main/resources/public/schemas) using [JSON Schema](https://json-schema.org/), but we can query the `/profiles` service to see which profiles are installed:\n"
   ]
  },
  {
   "cell_type": "code",
   "execution_count": 144,
   "metadata": {},
   "outputs": [
    {
     "data": {
      "text/plain": [
       "200"
      ]
     },
     "execution_count": 144,
     "metadata": {},
     "output_type": "execute_result"
    }
   ],
   "source": [
    "r = requests.get(host + \"/profiles\")\n",
    "r.status_code"
   ]
  },
  {
   "cell_type": "markdown",
   "metadata": {},
   "source": [
    "HTTP status code `200` means **OK**, so let's see what is the _content type_ of the result:"
   ]
  },
  {
   "cell_type": "code",
   "execution_count": 145,
   "metadata": {},
   "outputs": [
    {
     "data": {
      "text/plain": [
       "'application/hal+json;charset=UTF-8'"
      ]
     },
     "execution_count": 145,
     "metadata": {},
     "output_type": "execute_result"
    }
   ],
   "source": [
    "r.headers[\"Content-Type\"]"
   ]
  },
  {
   "cell_type": "markdown",
   "metadata": {},
   "source": [
    "The API results from RO Composer is JSON that follows the Hypertext Application Language ([HAL](http://stateless.co/hal_specification.html)) patterns for RESTful services. Let's look at the content:"
   ]
  },
  {
   "cell_type": "code",
   "execution_count": 146,
   "metadata": {},
   "outputs": [
    {
     "data": {
      "text/plain": [
       "{'_embedded': {'researchObjectProfileList': [{'id': 1,\n",
       "    'name': 'data_bundle',\n",
       "    'fields': ['data', '_metadata'],\n",
       "    '_links': {'self': {'href': 'http://openphacts.cs.man.ac.uk:8080/profiles/data_bundle'},\n",
       "     'schema': {'href': 'http://openphacts.cs.man.ac.uk:8080/schemas/data_bundle.schema.json'},\n",
       "     'researchObjects': {'href': 'http://openphacts.cs.man.ac.uk:8080/profiles/data_bundle/research_objects'}}},\n",
       "   {'id': 2,\n",
       "    'name': 'draft_task',\n",
       "    'fields': ['input', 'workflow', 'workflow_params', '_metadata'],\n",
       "    '_links': {'self': {'href': 'http://openphacts.cs.man.ac.uk:8080/profiles/draft_task'},\n",
       "     'schema': {'href': 'http://openphacts.cs.man.ac.uk:8080/schemas/draft_task.schema.json'},\n",
       "     'researchObjects': {'href': 'http://openphacts.cs.man.ac.uk:8080/profiles/draft_task/research_objects'}}}]},\n",
       " '_links': {'self': {'href': 'http://openphacts.cs.man.ac.uk:8080/profiles'}}}"
      ]
     },
     "execution_count": 146,
     "metadata": {},
     "output_type": "execute_result"
    }
   ],
   "source": [
    "r.json()"
   ]
  },
  {
   "cell_type": "markdown",
   "metadata": {},
   "source": [
    "In HAL, the `_links` section contain related REST resources, in this case only `self` which `href` is referring back to the HTTP resource we just requested. \n",
    "\n",
    "The `_embedded` section contains additional REST sources which properties are partially embedded. Within `researchObjectProfileList` we therefore find the different profiles supported by this service. Let's look at their `name` fields:"
   ]
  },
  {
   "cell_type": "code",
   "execution_count": 147,
   "metadata": {},
   "outputs": [
    {
     "data": {
      "text/plain": [
       "['data_bundle', 'draft_task']"
      ]
     },
     "execution_count": 147,
     "metadata": {},
     "output_type": "execute_result"
    }
   ],
   "source": [
    "profiles = r.json()[\"_embedded\"]['researchObjectProfileList']\n",
    "[p[\"name\"] for p in profiles]"
   ]
  },
  {
   "cell_type": "markdown",
   "metadata": {},
   "source": [
    "In this installation, the profile `data_bundle` is for Research Objects containing arbitrary datasets, while `draft_task` is for more specific ROs describing workflow executions. We'll look at the first in detail and see it only expects the fields `data` and `_metadata`:"
   ]
  },
  {
   "cell_type": "code",
   "execution_count": 148,
   "metadata": {},
   "outputs": [
    {
     "data": {
      "text/plain": [
       "['data', '_metadata']"
      ]
     },
     "execution_count": 148,
     "metadata": {},
     "output_type": "execute_result"
    }
   ],
   "source": [
    "bundle_profile = profiles[0]\n",
    "bundle_profile[\"fields\"]"
   ]
  },
  {
   "cell_type": "markdown",
   "metadata": {},
   "source": [
    "We can request the underlying [JSON Schema](https://json-schema.org/) to see details of these fields at `/schemas/{name}` - linked to from `schema` under our profile's `_links`."
   ]
  },
  {
   "cell_type": "code",
   "execution_count": 149,
   "metadata": {},
   "outputs": [
    {
     "data": {
      "text/plain": [
       "{'self': {'href': 'http://openphacts.cs.man.ac.uk:8080/profiles/data_bundle'},\n",
       " 'schema': {'href': 'http://openphacts.cs.man.ac.uk:8080/schemas/data_bundle.schema.json'},\n",
       " 'researchObjects': {'href': 'http://openphacts.cs.man.ac.uk:8080/profiles/data_bundle/research_objects'}}"
      ]
     },
     "execution_count": 149,
     "metadata": {},
     "output_type": "execute_result"
    }
   ],
   "source": [
    "links = bundle_profile[\"_links\"]\n",
    "links"
   ]
  },
  {
   "cell_type": "code",
   "execution_count": 150,
   "metadata": {},
   "outputs": [
    {
     "data": {
      "text/plain": [
       "{'href': 'http://openphacts.cs.man.ac.uk:8080/schemas/data_bundle.schema.json'}"
      ]
     },
     "execution_count": 150,
     "metadata": {},
     "output_type": "execute_result"
    }
   ],
   "source": [
    "schema = links[\"schema\"]\n",
    "schema"
   ]
  },
  {
   "cell_type": "code",
   "execution_count": 151,
   "metadata": {},
   "outputs": [
    {
     "data": {
      "text/plain": [
       "{'$schema': 'http://json-schema.org/draft-07/schema',\n",
       " 'type': 'object',\n",
       " '$baggable': {'data': '/'},\n",
       " 'properties': {'_metadata': {'$ref': '/schemas/_base.schema.json#/definitions/Metadata'},\n",
       "  'data': {'type': 'array',\n",
       "   'items': {'$ref': '/schemas/_base.schema.json#/definitions/RemoteItem'}}}}"
      ]
     },
     "execution_count": 151,
     "metadata": {},
     "output_type": "execute_result"
    }
   ],
   "source": [
    "schema_response = requests.get(schema[\"href\"])\n",
    "schema_response.json()"
   ]
  },
  {
   "cell_type": "markdown",
   "metadata": {},
   "source": [
    "You may notice that the JSON Schema define the `_metadata` and `data` keys by referencing a [base schema](https://github.com/ResearchObject/research-object-composer/blob/master/src/main/resources/public/schemas/_base.schema.json) that is common for all Research Objects.  However we do not need to learn the details of the profile's JSON Schema as the RO Composer will make individual REST resources for each field.\n",
    "\n",
    "The REST resource that collect [research objects for the given profile]((https://researchobject.github.io/research-object-composer/api/#operation/listResearchObjectsForProfile)) is at `/profiles/{name}/research_objects` and linked to from the `researchObjects` link from the profile:\n",
    "\n"
   ]
  },
  {
   "cell_type": "code",
   "execution_count": 152,
   "metadata": {},
   "outputs": [
    {
     "data": {
      "text/plain": [
       "{'href': 'http://openphacts.cs.man.ac.uk:8080/profiles/data_bundle/research_objects'}"
      ]
     },
     "execution_count": 152,
     "metadata": {},
     "output_type": "execute_result"
    }
   ],
   "source": [
    "researchObjects = links[\"researchObjects\"]\n",
    "researchObjects"
   ]
  },
  {
   "cell_type": "markdown",
   "metadata": {},
   "source": [
    "This resource is a collection that supports creation using [POST](https://researchobject.github.io/research-object-composer/api/#operation/createResearchObject)."
   ]
  },
  {
   "cell_type": "code",
   "execution_count": 153,
   "metadata": {},
   "outputs": [
    {
     "data": {
      "text/plain": [
       "<Response [201]>"
      ]
     },
     "execution_count": 153,
     "metadata": {},
     "output_type": "execute_result"
    }
   ],
   "source": [
    "created = requests.post(researchObjects[\"href\"])\n",
    "created"
   ]
  },
  {
   "cell_type": "markdown",
   "metadata": {},
   "source": [
    "In HTTP, **201 Created** means a new HTTP resource was made. We can find out where from the `Location` header:"
   ]
  },
  {
   "cell_type": "code",
   "execution_count": 154,
   "metadata": {},
   "outputs": [
    {
     "data": {
      "text/plain": [
       "'http://openphacts.cs.man.ac.uk:8080/research_objects/19'"
      ]
     },
     "execution_count": 154,
     "metadata": {},
     "output_type": "execute_result"
    }
   ],
   "source": [
    "ro_uri = created.headers[\"Location\"]\n",
    "ro_uri"
   ]
  },
  {
   "cell_type": "markdown",
   "metadata": {},
   "source": [
    "The response also includes a preview of the created Research Object resource, where we'll find the same URI under the `self` link."
   ]
  },
  {
   "cell_type": "code",
   "execution_count": 155,
   "metadata": {},
   "outputs": [
    {
     "data": {
      "text/plain": [
       "{'id': 19,\n",
       " 'content': {'data': [], '_metadata': None},\n",
       " 'contentSha256': None,\n",
       " 'profileName': 'data_bundle',\n",
       " '_links': {'self': {'href': 'http://openphacts.cs.man.ac.uk:8080/research_objects/19'},\n",
       "  'profile': {'href': 'http://openphacts.cs.man.ac.uk:8080/profiles/data_bundle'},\n",
       "  'content': {'href': 'http://openphacts.cs.man.ac.uk:8080/research_objects/19/content'},\n",
       "  'data': {'href': 'http://openphacts.cs.man.ac.uk:8080/research_objects/19/content/data'},\n",
       "  '_metadata': {'href': 'http://openphacts.cs.man.ac.uk:8080/research_objects/19/content/_metadata'}}}"
      ]
     },
     "execution_count": 155,
     "metadata": {},
     "output_type": "execute_result"
    }
   ],
   "source": [
    "created.json()"
   ]
  },
  {
   "cell_type": "markdown",
   "metadata": {},
   "source": [
    "Remember before we had the fields `data` and `_metadata`? We now see them under `content`, but they are not yet populated:"
   ]
  },
  {
   "cell_type": "code",
   "execution_count": 157,
   "metadata": {},
   "outputs": [
    {
     "data": {
      "text/plain": [
       "{'data': [], '_metadata': None}"
      ]
     },
     "execution_count": 157,
     "metadata": {},
     "output_type": "execute_result"
    }
   ],
   "source": [
    "created.json()[\"content\"]"
   ]
  },
  {
   "cell_type": "markdown",
   "metadata": {},
   "source": [
    "We have a corresponding REST resource to populate each, which we find under `_links`. "
   ]
  },
  {
   "cell_type": "code",
   "execution_count": 158,
   "metadata": {},
   "outputs": [
    {
     "data": {
      "text/plain": [
       "{'self': {'href': 'http://openphacts.cs.man.ac.uk:8080/research_objects/19'},\n",
       " 'profile': {'href': 'http://openphacts.cs.man.ac.uk:8080/profiles/data_bundle'},\n",
       " 'content': {'href': 'http://openphacts.cs.man.ac.uk:8080/research_objects/19/content'},\n",
       " 'data': {'href': 'http://openphacts.cs.man.ac.uk:8080/research_objects/19/content/data'},\n",
       " '_metadata': {'href': 'http://openphacts.cs.man.ac.uk:8080/research_objects/19/content/_metadata'}}"
      ]
     },
     "execution_count": 158,
     "metadata": {},
     "output_type": "execute_result"
    }
   ],
   "source": [
    "links = created.json()[\"_links\"]\n",
    "links"
   ]
  },
  {
   "cell_type": "markdown",
   "metadata": {},
   "source": [
    "Let's fill `data` first. We saw in `content` it was a `[]` array, which we also saw as `type: array` in the JSON Schema. RO Composer exposes this as a REST collection we can `POST` to add to. "
   ]
  },
  {
   "cell_type": "code",
   "execution_count": 159,
   "metadata": {},
   "outputs": [
    {
     "data": {
      "text/plain": [
       "<Response [400]>"
      ]
     },
     "execution_count": 159,
     "metadata": {},
     "output_type": "execute_result"
    }
   ],
   "source": [
    "data = requests.post(links[\"data\"][\"href\"], json={})\n",
    "data"
   ]
  },
  {
   "cell_type": "markdown",
   "metadata": {},
   "source": [
    "Uups, **400 Bad Request**, perhaps `{}` was not sufficient? Perhaps we should have read that JSON Schema after all..."
   ]
  },
  {
   "cell_type": "code",
   "execution_count": 162,
   "metadata": {},
   "outputs": [
    {
     "data": {
      "text/plain": [
       "{'pointerToViolation': '#',\n",
       " 'message': '#: 4 schema violations found',\n",
       " 'causingExceptions': [{'keyword': 'required',\n",
       "   'pointerToViolation': '#',\n",
       "   'message': '#: required key [length] not found',\n",
       "   'causingExceptions': [],\n",
       "   'schemaLocation': '/schemas/_base.schema.json#/definitions/RemoteItem'},\n",
       "  {'keyword': 'required',\n",
       "   'pointerToViolation': '#',\n",
       "   'message': '#: required key [filename] not found',\n",
       "   'causingExceptions': [],\n",
       "   'schemaLocation': '/schemas/_base.schema.json#/definitions/RemoteItem'},\n",
       "  {'keyword': 'required',\n",
       "   'pointerToViolation': '#',\n",
       "   'message': '#: required key [url] not found',\n",
       "   'causingExceptions': [],\n",
       "   'schemaLocation': '/schemas/_base.schema.json#/definitions/RemoteItem'},\n",
       "  {'keyword': 'required',\n",
       "   'pointerToViolation': '#',\n",
       "   'message': '#: required key [checksums] not found',\n",
       "   'causingExceptions': [],\n",
       "   'schemaLocation': '/schemas/_base.schema.json#/definitions/RemoteItem'}],\n",
       " 'schemaLocation': '/schemas/_base.schema.json#/definitions/RemoteItem'}"
      ]
     },
     "execution_count": 162,
     "metadata": {},
     "output_type": "execute_result"
    }
   ],
   "source": [
    "data.json()\n"
   ]
  },
  {
   "cell_type": "markdown",
   "metadata": {},
   "source": [
    "We see here that we are missing 4 fields from the [RemoteItem](https://github.com/ResearchObject/research-object-composer/blob/master/src/main/resources/public/schemas/_base.schema.json#L4) type, `length`, `filename`, `url` and `checksums`; items in `data` reference remote files.\n",
    "\n",
    "For the purpose of this demonstration we'll create a [simple dataset](https://github.com/ResearchObject/ro-lite/tree/master/examples/simple-dataset-0.1.0/data) contaning a [TSV file](https://github.com/ResearchObject/ro-lite/blob/master/examples/simple-dataset-0.1.0/data/repository-sizes.tsv) and a [PNG image](https://github.com/ResearchObject/ro-lite/blob/master/examples/simple-dataset-0.1.0/data/repository-sizes-chart.png). "
   ]
  },
  {
   "cell_type": "code",
   "execution_count": 163,
   "metadata": {},
   "outputs": [
    {
     "data": {
      "text/plain": [
       "200"
      ]
     },
     "execution_count": 163,
     "metadata": {},
     "output_type": "execute_result"
    }
   ],
   "source": [
    "tsv = { \"url\": \"https://raw.githubusercontent.com/ResearchObject/ro-lite/master/examples/simple-dataset-0.1.0/data/repository-sizes.tsv\",\n",
    "        \"length\": 1982,\n",
    "        \"filename\": \"repository-sizes.tsv\",\n",
    "        \"checksums\": [{\"type\": \"sha256\", \n",
    "                       \"checksum\": \"c2160e931a6ddb8cddb451190816196fc667c5f25020a89a356a69e75ec8dc0a\"}]\n",
    "      } \n",
    "png = { \"url\": \"https://raw.githubusercontent.com/ResearchObject/ro-lite/master/examples/simple-dataset-0.1.0/data/repository-sizes-chart.png\",\n",
    "        \"length\": 23803,\n",
    "        \"filename\": \"repository-sizes-chart.png\",\n",
    "        \"checksums\": [{\"type\": \"sha256\", \n",
    "                       \"checksum\": \"c2160e931a6ddb8cddb451190816196fc667c5f25020a89a356a69e75ec8dc0a\"}]\n",
    "      } \n",
    "tsv_uploaded = requests.post(links[\"data\"][\"href\"], json=tsv)\n",
    "tsv_uploaded.status_code"
   ]
  },
  {
   "cell_type": "code",
   "execution_count": 164,
   "metadata": {},
   "outputs": [
    {
     "data": {
      "text/plain": [
       "200"
      ]
     },
     "execution_count": 164,
     "metadata": {},
     "output_type": "execute_result"
    }
   ],
   "source": [
    "csv_uploaded = requests.post(links[\"data\"][\"href\"], json=png)\n",
    "csv_uploaded.status_code"
   ]
  },
  {
   "cell_type": "markdown",
   "metadata": {},
   "source": [
    "**200 OK** here means we complied with the JSON Schema, you may get an error if you get any of the keys wrong.\n",
    "\n",
    "Now let's reload the RO and see if we have populated `content`."
   ]
  },
  {
   "cell_type": "code",
   "execution_count": 166,
   "metadata": {},
   "outputs": [
    {
     "data": {
      "text/plain": [
       "{'id': 19,\n",
       " 'content': {'data': [{'url': 'https://raw.githubusercontent.com/ResearchObject/ro-lite/master/examples/simple-dataset-0.1.0/data/repository-sizes.tsv',\n",
       "    'length': 1982,\n",
       "    'filename': 'repository-sizes.tsv',\n",
       "    'checksums': [{'type': 'sha256',\n",
       "      'checksum': 'c2160e931a6ddb8cddb451190816196fc667c5f25020a89a356a69e75ec8dc0a'}]},\n",
       "   {'url': 'https://raw.githubusercontent.com/ResearchObject/ro-lite/master/examples/simple-dataset-0.1.0/data/repository-sizes-chart.png',\n",
       "    'length': 23803,\n",
       "    'filename': 'repository-sizes-chart.png',\n",
       "    'checksums': [{'type': 'sha256',\n",
       "      'checksum': 'c2160e931a6ddb8cddb451190816196fc667c5f25020a89a356a69e75ec8dc0a'}]}],\n",
       "  '_metadata': None},\n",
       " 'contentSha256': None,\n",
       " 'profileName': 'data_bundle',\n",
       " '_links': {'self': {'href': 'http://openphacts.cs.man.ac.uk:8080/research_objects/19'},\n",
       "  'profile': {'href': 'http://openphacts.cs.man.ac.uk:8080/profiles/data_bundle'},\n",
       "  'content': {'href': 'http://openphacts.cs.man.ac.uk:8080/research_objects/19/content'},\n",
       "  'data': {'href': 'http://openphacts.cs.man.ac.uk:8080/research_objects/19/content/data'},\n",
       "  '_metadata': {'href': 'http://openphacts.cs.man.ac.uk:8080/research_objects/19/content/_metadata'}}}"
      ]
     },
     "execution_count": 166,
     "metadata": {},
     "output_type": "execute_result"
    }
   ],
   "source": [
    "ro = requests.get(ro_uri)\n",
    "ro.json()"
   ]
  },
  {
   "cell_type": "markdown",
   "metadata": {},
   "source": [
    "Now we can download the Research Object as a [BagIt archive](https://tools.ietf.org/html/rfc8493) (RFC8493) from the `/research_objects/{id}/bag` resource (currently this REST resource is not listed under `_links`).\n",
    "\n",
    "As this is a binary (ZIP file) we'll use a slightly different Python method to save it to a file."
   ]
  },
  {
   "cell_type": "code",
   "execution_count": 176,
   "metadata": {},
   "outputs": [],
   "source": [
    "import shutil\n",
    "with requests.post(ro_uri + \"/bag\", stream=True) as bag:\n",
    "    r.raise_for_status()\n",
    "    with open(\"bag.zip\", \"wb\") as zipfile:\n",
    "        shutil.copyfileobj(bag.raw, zipfile)"
   ]
  },
  {
   "cell_type": "code",
   "execution_count": null,
   "metadata": {},
   "outputs": [],
   "source": [
    "If you have `unzip` installed we can also check the content."
   ]
  },
  {
   "cell_type": "code",
   "execution_count": 177,
   "metadata": {},
   "outputs": [
    {
     "name": "stdout",
     "output_type": "stream",
     "text": [
      "Archive:  bag.zip\r\n",
      "    testing: data_bundle-19/fetch.txt   OK\r\n",
      "    testing: data_bundle-19/bag-info.txt   OK\r\n",
      "    testing: data_bundle-19/metadata/manifest.json   OK\r\n",
      "    testing: data_bundle-19/tagmanifest-md5.txt   OK\r\n",
      "    testing: data_bundle-19/manifest-sha256.txt   OK\r\n",
      "    testing: data_bundle-19/tagmanifest-sha256.txt   OK\r\n",
      "    testing: data_bundle-19/manifest-sha512.txt   OK\r\n",
      "    testing: data_bundle-19/data/content.json   OK\r\n",
      "    testing: data_bundle-19/tagmanifest-sha512.txt   OK\r\n",
      "    testing: data_bundle-19/bagit.txt   OK\r\n",
      "    testing: data_bundle-19/manifest-md5.txt   OK\r\n",
      "No errors detected in compressed data of bag.zip.\r\n"
     ]
    }
   ],
   "source": [
    "! unzip -t bag.zip"
   ]
  },
  {
   "cell_type": "markdown",
   "metadata": {},
   "source": [
    "You may notice that the two remote files are **not** present in the zip file, they are referenced from `fetch.txt` and `manifest-sha256.txt` - this means that even if large files are added to the Research Object, its download ZIP remains small (until the bag is _completed_ using BagIt tools)"
   ]
  }
 ],
 "metadata": {
  "kernelspec": {
   "display_name": "Python 3",
   "language": "python",
   "name": "python3"
  },
  "language_info": {
   "codemirror_mode": {
    "name": "ipython",
    "version": 3
   },
   "file_extension": ".py",
   "mimetype": "text/x-python",
   "name": "python",
   "nbconvert_exporter": "python",
   "pygments_lexer": "ipython3",
   "version": "3.6.7"
  }
 },
 "nbformat": 4,
 "nbformat_minor": 2
}
