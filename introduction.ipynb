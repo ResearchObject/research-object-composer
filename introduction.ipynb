{
 "cells": [
  {
   "cell_type": "markdown",
   "metadata": {},
   "source": [
    "# Research Object Composer tutorial\n",
    "\n",
    "This is a [Jupyter Notebook](https://jupyter.org/) demonstrating how a client can use the [Research Object Composer](https://github.com/researchobject/research-object-composer) REST API.\n",
    "\n",
    "For requirements to run this notebook interactively, see the [README](https://github.com/ResearchObject/research-object-composer/blob/master/README.md). \n",
    "\n",
    "The [RO Composer API](https://researchobject.github.io/research-object-composer/api/) is documented using [Swagger OpenAPI](https://swagger.io/docs/specification/about/) 2.0, which means the REST API can be integrated into programming languages, however this notebook uses [Python](https://www.python.org/) to not hide too much of the HTTP details.\n",
    "\n",
    "To execute this notebook, select each cell in order, then click the **▶️Run** button above.\n",
    "\n",
    "## Python requirements\n",
    "\n",
    "For the below examples we'll use the Python library [requests](https://pypi.org/project/requests/) to show the HTTP  interactions. Below assumes a basic knowledge of [REST services](https://en.wikipedia.org/wiki/Representational_state_transfer).\n",
    "\n",
    "If the below `import` does not work, try on the command line where you started Jupyter Notebook: `pip install requests`"
   ]
  },
  {
   "cell_type": "code",
   "execution_count": 1,
   "metadata": {},
   "outputs": [],
   "source": [
    "import requests\n",
    "true,false = (True,False) # for JSON example"
   ]
  },
  {
   "cell_type": "markdown",
   "metadata": {},
   "source": [
    "RO Composer is meant to be installed on a local infrastructure or as a cloud service. The below uses a demo service hosted by The University of Manchester why is not supported and may become unavailable in the future.\n",
    "\n",
    "If you are testing the service locally using _Docker Compose_ (see [README](https://github.com/ResearchObject/research-object-composer/blob/master/README.md)) - change below to `http://localhost:8080` or use equivalent server name if you are hosting it as a cloud service."
   ]
  },
  {
   "cell_type": "code",
   "execution_count": 2,
   "metadata": {},
   "outputs": [],
   "source": [
    "host = \"http://openphacts.cs.man.ac.uk:8080\""
   ]
  },
  {
   "cell_type": "markdown",
   "metadata": {},
   "source": [
    "## Profiles\n",
    "\n",
    "The RO Composer supports creating Research Object for multiple **profiles**. Each profile is [defined internally](https://github.com/ResearchObject/research-object-composer/tree/master/src/main/resources/public/schemas) using [JSON Schema](https://json-schema.org/), for creating different kind of Research Objects. We can query the `/profiles` service to see which profiles are installed:\n"
   ]
  },
  {
   "cell_type": "code",
   "execution_count": 3,
   "metadata": {},
   "outputs": [
    {
     "data": {
      "text/plain": [
       "200"
      ]
     },
     "execution_count": 3,
     "metadata": {},
     "output_type": "execute_result"
    }
   ],
   "source": [
    "r = requests.get(host + \"/profiles\")\n",
    "r.status_code"
   ]
  },
  {
   "cell_type": "markdown",
   "metadata": {},
   "source": [
    "HTTP status code `200` means **OK**, so let's see what is the _content type_ of the result:"
   ]
  },
  {
   "cell_type": "code",
   "execution_count": 4,
   "metadata": {},
   "outputs": [
    {
     "data": {
      "text/plain": [
       "'application/hal+json;charset=UTF-8'"
      ]
     },
     "execution_count": 4,
     "metadata": {},
     "output_type": "execute_result"
    }
   ],
   "source": [
    "r.headers[\"Content-Type\"]"
   ]
  },
  {
   "cell_type": "markdown",
   "metadata": {},
   "source": [
    "The API results from RO Composer is JSON that follows the Hypertext Application Language ([HAL](http://stateless.co/hal_specification.html)) patterns for RESTful services. Let's look at the content:"
   ]
  },
  {
   "cell_type": "code",
   "execution_count": 5,
   "metadata": {},
   "outputs": [
    {
     "data": {
      "text/plain": [
       "{'_embedded': {'researchObjectProfileList': [{'id': 1,\n",
       "    'name': 'data_bundle',\n",
       "    'fields': ['data', '_metadata'],\n",
       "    '_links': {'self': {'href': 'http://openphacts.cs.man.ac.uk:8080/profiles/data_bundle'},\n",
       "     'schema': {'href': 'http://openphacts.cs.man.ac.uk:8080/schemas/data_bundle.schema.json'},\n",
       "     'researchObjects': {'href': 'http://openphacts.cs.man.ac.uk:8080/profiles/data_bundle/research_objects'}}},\n",
       "   {'id': 2,\n",
       "    'name': 'draft_task',\n",
       "    'fields': ['input', 'workflow', 'workflow_params', '_metadata'],\n",
       "    '_links': {'self': {'href': 'http://openphacts.cs.man.ac.uk:8080/profiles/draft_task'},\n",
       "     'schema': {'href': 'http://openphacts.cs.man.ac.uk:8080/schemas/draft_task.schema.json'},\n",
       "     'researchObjects': {'href': 'http://openphacts.cs.man.ac.uk:8080/profiles/draft_task/research_objects'}}}]},\n",
       " '_links': {'self': {'href': 'http://openphacts.cs.man.ac.uk:8080/profiles'}}}"
      ]
     },
     "execution_count": 5,
     "metadata": {},
     "output_type": "execute_result"
    }
   ],
   "source": [
    "r.json()"
   ]
  },
  {
   "cell_type": "markdown",
   "metadata": {},
   "source": [
    "### Profile links\n",
    "\n",
    "In HAL, the `_links` section contain links to related REST resources, in this case only `self` which is referring back to the HTTP resource we just requested. Hyperlinks are given with `href` like in HTML.\n",
    "\n",
    "The `_embedded` section contains additional REST resources, which properties are partially embedded. Within `researchObjectProfileList` we therefore find the different profiles supported by this service. Let's look at their `name` fields:"
   ]
  },
  {
   "cell_type": "code",
   "execution_count": 6,
   "metadata": {},
   "outputs": [
    {
     "data": {
      "text/plain": [
       "['data_bundle', 'draft_task']"
      ]
     },
     "execution_count": 6,
     "metadata": {},
     "output_type": "execute_result"
    }
   ],
   "source": [
    "profiles = r.json()[\"_embedded\"]['researchObjectProfileList']\n",
    "[p[\"name\"] for p in profiles]"
   ]
  },
  {
   "cell_type": "markdown",
   "metadata": {},
   "source": [
    "In this installation, the profile `data_bundle` is for Research Objects containing arbitrary datasets, while `draft_task` is for more specific ROs describing workflow executions. We'll look at the first in detail. \n",
    "\n",
    "We see this profile only expects the fields `data` and `_metadata`:"
   ]
  },
  {
   "cell_type": "code",
   "execution_count": 7,
   "metadata": {},
   "outputs": [
    {
     "data": {
      "text/plain": [
       "['data', '_metadata']"
      ]
     },
     "execution_count": 7,
     "metadata": {},
     "output_type": "execute_result"
    }
   ],
   "source": [
    "bundle_profile = profiles[0]\n",
    "bundle_profile[\"fields\"]"
   ]
  },
  {
   "cell_type": "markdown",
   "metadata": {},
   "source": [
    "For the profile the HAL `_links` includes several entries, `self`, `schema` and `researchObjects`"
   ]
  },
  {
   "cell_type": "code",
   "execution_count": 11,
   "metadata": {},
   "outputs": [
    {
     "data": {
      "text/plain": [
       "{'self': {'href': 'http://openphacts.cs.man.ac.uk:8080/profiles/data_bundle'},\n",
       " 'schema': {'href': 'http://openphacts.cs.man.ac.uk:8080/schemas/data_bundle.schema.json'},\n",
       " 'researchObjects': {'href': 'http://openphacts.cs.man.ac.uk:8080/profiles/data_bundle/research_objects'}}"
      ]
     },
     "execution_count": 11,
     "metadata": {},
     "output_type": "execute_result"
    }
   ],
   "source": [
    "links = bundle_profile[\"_links\"]\n",
    "links"
   ]
  },
  {
   "cell_type": "markdown",
   "metadata": {},
   "source": [
    "### JSON Schema\n",
    "\n",
    "We can request the underlying [JSON Schema](https://json-schema.org/) to see details of these fields at `/schemas/{name}` - linked to from `schema` above."
   ]
  },
  {
   "cell_type": "code",
   "execution_count": 12,
   "metadata": {},
   "outputs": [
    {
     "data": {
      "text/plain": [
       "{'href': 'http://openphacts.cs.man.ac.uk:8080/schemas/data_bundle.schema.json'}"
      ]
     },
     "execution_count": 12,
     "metadata": {},
     "output_type": "execute_result"
    }
   ],
   "source": [
    "schema = links[\"schema\"]\n",
    "schema"
   ]
  },
  {
   "cell_type": "code",
   "execution_count": 13,
   "metadata": {},
   "outputs": [
    {
     "data": {
      "text/plain": [
       "{'$schema': 'http://json-schema.org/draft-07/schema',\n",
       " 'type': 'object',\n",
       " '$baggable': {'data': '/'},\n",
       " 'properties': {'_metadata': {'$ref': '/schemas/_base.schema.json#/definitions/Metadata'},\n",
       "  'data': {'type': 'array',\n",
       "   'items': {'$ref': '/schemas/_base.schema.json#/definitions/RemoteItem'}}}}"
      ]
     },
     "execution_count": 13,
     "metadata": {},
     "output_type": "execute_result"
    }
   ],
   "source": [
    "schema_response = requests.get(schema[\"href\"])\n",
    "schema_response.json()"
   ]
  },
  {
   "cell_type": "markdown",
   "metadata": {},
   "source": [
    "You may notice that the JSON Schema define the `_metadata` and `data` keys by referencing a separate [base schema](https://github.com/ResearchObject/research-object-composer/blob/master/src/main/resources/public/schemas/_base.schema.json) that is common for all Research Objects.  However we do not need to learn the details of the profile's JSON Schema as the RO Composer will make individual REST resources for each field.\n",
    "\n",
    "## Creating a Research Object\n",
    "\n",
    "The REST resource that collect [Research Objects for the given profile]((https://researchobject.github.io/research-object-composer/api/#operation/listResearchObjectsForProfile)) is at `/profiles/{name}/research_objects` and is linked to from the `researchObjects` link:\n",
    "\n"
   ]
  },
  {
   "cell_type": "code",
   "execution_count": 14,
   "metadata": {},
   "outputs": [
    {
     "data": {
      "text/plain": [
       "{'href': 'http://openphacts.cs.man.ac.uk:8080/profiles/data_bundle/research_objects'}"
      ]
     },
     "execution_count": 14,
     "metadata": {},
     "output_type": "execute_result"
    }
   ],
   "source": [
    "researchObjects = links[\"researchObjects\"]\n",
    "researchObjects"
   ]
  },
  {
   "cell_type": "markdown",
   "metadata": {},
   "source": [
    "As this resource is a collection it supports RO creation using [POST](https://researchobject.github.io/research-object-composer/api/#operation/createResearchObject)."
   ]
  },
  {
   "cell_type": "code",
   "execution_count": 15,
   "metadata": {},
   "outputs": [
    {
     "data": {
      "text/plain": [
       "<Response [201]>"
      ]
     },
     "execution_count": 15,
     "metadata": {},
     "output_type": "execute_result"
    }
   ],
   "source": [
    "created = requests.post(researchObjects[\"href\"])\n",
    "created"
   ]
  },
  {
   "cell_type": "markdown",
   "metadata": {},
   "source": [
    "In HTTP, **201 Created** means a new HTTP resource was made. We can find out _where_ from the `Location` header:"
   ]
  },
  {
   "cell_type": "code",
   "execution_count": 16,
   "metadata": {},
   "outputs": [
    {
     "data": {
      "text/plain": [
       "'http://openphacts.cs.man.ac.uk:8080/research_objects/20'"
      ]
     },
     "execution_count": 16,
     "metadata": {},
     "output_type": "execute_result"
    }
   ],
   "source": [
    "ro_uri = created.headers[\"Location\"]\n",
    "ro_uri"
   ]
  },
  {
   "cell_type": "markdown",
   "metadata": {},
   "source": [
    "### Completing the Research Object\n",
    "\n",
    "The response also includes a preview of the created Research Object resource (we don't need to `GET` it), where we'll find the same URI under the `self` link."
   ]
  },
  {
   "cell_type": "code",
   "execution_count": 17,
   "metadata": {},
   "outputs": [
    {
     "data": {
      "text/plain": [
       "{'id': 20,\n",
       " 'content': {'data': [], '_metadata': None},\n",
       " 'contentSha256': None,\n",
       " 'profileName': 'data_bundle',\n",
       " '_links': {'self': {'href': 'http://openphacts.cs.man.ac.uk:8080/research_objects/20'},\n",
       "  'profile': {'href': 'http://openphacts.cs.man.ac.uk:8080/profiles/data_bundle'},\n",
       "  'content': {'href': 'http://openphacts.cs.man.ac.uk:8080/research_objects/20/content'},\n",
       "  'data': {'href': 'http://openphacts.cs.man.ac.uk:8080/research_objects/20/content/data'},\n",
       "  '_metadata': {'href': 'http://openphacts.cs.man.ac.uk:8080/research_objects/20/content/_metadata'}}}"
      ]
     },
     "execution_count": 17,
     "metadata": {},
     "output_type": "execute_result"
    }
   ],
   "source": [
    "created.json()"
   ]
  },
  {
   "cell_type": "markdown",
   "metadata": {},
   "source": [
    "Remember before we had the fields `data` and `_metadata`? We now see them under `content`, however they are not yet populated:"
   ]
  },
  {
   "cell_type": "code",
   "execution_count": 18,
   "metadata": {},
   "outputs": [
    {
     "data": {
      "text/plain": [
       "{'data': [], '_metadata': None}"
      ]
     },
     "execution_count": 18,
     "metadata": {},
     "output_type": "execute_result"
    }
   ],
   "source": [
    "created.json()[\"content\"]"
   ]
  },
  {
   "cell_type": "markdown",
   "metadata": {},
   "source": [
    "### Research Object links\n",
    "\n",
    "We have a corresponding REST resource to populate each, which we find under `_links`. "
   ]
  },
  {
   "cell_type": "code",
   "execution_count": 19,
   "metadata": {},
   "outputs": [
    {
     "data": {
      "text/plain": [
       "{'self': {'href': 'http://openphacts.cs.man.ac.uk:8080/research_objects/20'},\n",
       " 'profile': {'href': 'http://openphacts.cs.man.ac.uk:8080/profiles/data_bundle'},\n",
       " 'content': {'href': 'http://openphacts.cs.man.ac.uk:8080/research_objects/20/content'},\n",
       " 'data': {'href': 'http://openphacts.cs.man.ac.uk:8080/research_objects/20/content/data'},\n",
       " '_metadata': {'href': 'http://openphacts.cs.man.ac.uk:8080/research_objects/20/content/_metadata'}}"
      ]
     },
     "execution_count": 19,
     "metadata": {},
     "output_type": "execute_result"
    }
   ],
   "source": [
    "links = created.json()[\"_links\"]\n",
    "links"
   ]
  },
  {
   "cell_type": "markdown",
   "metadata": {},
   "source": [
    "### Adding data to a Research Object\n",
    "\n",
    "Let's fill `data` first. We saw in `content` it was a array  `[]`, which we also saw as `type: array` in the JSON Schema. RO Composer exposes this as a REST collection where we can `POST` to add items. "
   ]
  },
  {
   "cell_type": "code",
   "execution_count": 20,
   "metadata": {},
   "outputs": [
    {
     "data": {
      "text/plain": [
       "<Response [400]>"
      ]
     },
     "execution_count": 20,
     "metadata": {},
     "output_type": "execute_result"
    }
   ],
   "source": [
    "data = requests.post(links[\"data\"][\"href\"], json={})\n",
    "data"
   ]
  },
  {
   "cell_type": "markdown",
   "metadata": {},
   "source": [
    "Uups, **400 Bad Request**, perhaps `{}` was not sufficient? Maybe we should have read that JSON Schema after all... Let's look at the returned schema violations:"
   ]
  },
  {
   "cell_type": "code",
   "execution_count": 21,
   "metadata": {},
   "outputs": [
    {
     "data": {
      "text/plain": [
       "{'pointerToViolation': '#',\n",
       " 'message': '#: 4 schema violations found',\n",
       " 'causingExceptions': [{'keyword': 'required',\n",
       "   'pointerToViolation': '#',\n",
       "   'message': '#: required key [length] not found',\n",
       "   'causingExceptions': [],\n",
       "   'schemaLocation': '/schemas/_base.schema.json#/definitions/RemoteItem'},\n",
       "  {'keyword': 'required',\n",
       "   'pointerToViolation': '#',\n",
       "   'message': '#: required key [filename] not found',\n",
       "   'causingExceptions': [],\n",
       "   'schemaLocation': '/schemas/_base.schema.json#/definitions/RemoteItem'},\n",
       "  {'keyword': 'required',\n",
       "   'pointerToViolation': '#',\n",
       "   'message': '#: required key [url] not found',\n",
       "   'causingExceptions': [],\n",
       "   'schemaLocation': '/schemas/_base.schema.json#/definitions/RemoteItem'},\n",
       "  {'keyword': 'required',\n",
       "   'pointerToViolation': '#',\n",
       "   'message': '#: required key [checksums] not found',\n",
       "   'causingExceptions': [],\n",
       "   'schemaLocation': '/schemas/_base.schema.json#/definitions/RemoteItem'}],\n",
       " 'schemaLocation': '/schemas/_base.schema.json#/definitions/RemoteItem'}"
      ]
     },
     "execution_count": 21,
     "metadata": {},
     "output_type": "execute_result"
    }
   ],
   "source": [
    "data.json()\n"
   ]
  },
  {
   "cell_type": "markdown",
   "metadata": {},
   "source": [
    "We see here that we are missing 4 fields from the [RemoteItem](https://github.com/ResearchObject/research-object-composer/blob/master/src/main/resources/public/schemas/_base.schema.json#L4) type, `length`, `filename`, `url` and `checksums`; these properties are used in `data` to reference remote files.\n",
    "\n",
    "### Adding remote resources\n",
    "\n",
    "For the purpose of this demonstration we'll create a [simple dataset](https://github.com/ResearchObject/ro-lite/tree/master/examples/simple-dataset-0.1.0/data) containing a [TSV file](https://github.com/ResearchObject/ro-lite/blob/master/examples/simple-dataset-0.1.0/data/repository-sizes.tsv) and a [PNG image](https://github.com/ResearchObject/ro-lite/blob/master/examples/simple-dataset-0.1.0/data/repository-sizes-chart.png). We have already calculated the `length` and `checksums`."
   ]
  },
  {
   "cell_type": "code",
   "execution_count": 22,
   "metadata": {},
   "outputs": [
    {
     "data": {
      "text/plain": [
       "200"
      ]
     },
     "execution_count": 22,
     "metadata": {},
     "output_type": "execute_result"
    }
   ],
   "source": [
    "tsv = { \"url\": \"https://raw.githubusercontent.com/ResearchObject/research-object-composer/master/examples/repository-sizes.tsv\",\n",
    "        \"length\": 1982,\n",
    "        \"filename\": \"repository-sizes.tsv\",\n",
    "        \"checksums\": [{\"type\": \"sha256\", \n",
    "                       \"checksum\": \"c2160e931a6ddb8cddb451190816196fc667c5f25020a89a356a69e75ec8dc0a\"}]\n",
    "      } \n",
    "png = { \"url\": \"https://raw.githubusercontent.com/ResearchObject/research-object-composer/master/examples/repository-sizes-chart.png\",\n",
    "        \"length\": 23803,\n",
    "        \"filename\": \"repository-sizes-chart.png\",\n",
    "        \"checksums\": [{\"type\": \"sha256\", \n",
    "                       \"checksum\": \"c2160e931a6ddb8cddb451190816196fc667c5f25020a89a356a69e75ec8dc0a\"}]\n",
    "      } \n",
    "tsv_uploaded = requests.post(links[\"data\"][\"href\"], json=tsv)\n",
    "tsv_uploaded.status_code"
   ]
  },
  {
   "cell_type": "code",
   "execution_count": 23,
   "metadata": {},
   "outputs": [
    {
     "data": {
      "text/plain": [
       "200"
      ]
     },
     "execution_count": 23,
     "metadata": {},
     "output_type": "execute_result"
    }
   ],
   "source": [
    "csv_uploaded = requests.post(links[\"data\"][\"href\"], json=png)\n",
    "csv_uploaded.status_code"
   ]
  },
  {
   "cell_type": "markdown",
   "metadata": {},
   "source": [
    "**200 OK** here means we complied with the JSON Schema, you may get an error if you get any of the keys wrong, or the checksum value is of the incorrect length (supported `checksums`: `md5`, `sha1`, `sha256`, `sha512`).\n",
    "\n",
    "### Inspecting the Research Object\n",
    "\n",
    "\n",
    "Now let's reload the RO and see that we have populated `content` with the two items."
   ]
  },
  {
   "cell_type": "code",
   "execution_count": 24,
   "metadata": {},
   "outputs": [
    {
     "data": {
      "text/plain": [
       "{'id': 20,\n",
       " 'content': {'data': [{'url': 'https://raw.githubusercontent.com/ResearchObject/research-object-composer/master/examples/repository-sizes.tsv',\n",
       "    'length': 1982,\n",
       "    'filename': 'repository-sizes.tsv',\n",
       "    'checksums': [{'type': 'sha256',\n",
       "      'checksum': 'c2160e931a6ddb8cddb451190816196fc667c5f25020a89a356a69e75ec8dc0a'}]},\n",
       "   {'url': 'https://raw.githubusercontent.com/ResearchObject/research-object-composer/master/examples/repository-sizes-chart.png',\n",
       "    'length': 23803,\n",
       "    'filename': 'repository-sizes-chart.png',\n",
       "    'checksums': [{'type': 'sha256',\n",
       "      'checksum': 'c2160e931a6ddb8cddb451190816196fc667c5f25020a89a356a69e75ec8dc0a'}]}],\n",
       "  '_metadata': None},\n",
       " 'contentSha256': None,\n",
       " 'profileName': 'data_bundle',\n",
       " '_links': {'self': {'href': 'http://openphacts.cs.man.ac.uk:8080/research_objects/20'},\n",
       "  'profile': {'href': 'http://openphacts.cs.man.ac.uk:8080/profiles/data_bundle'},\n",
       "  'content': {'href': 'http://openphacts.cs.man.ac.uk:8080/research_objects/20/content'},\n",
       "  'data': {'href': 'http://openphacts.cs.man.ac.uk:8080/research_objects/20/content/data'},\n",
       "  '_metadata': {'href': 'http://openphacts.cs.man.ac.uk:8080/research_objects/20/content/_metadata'}}}"
      ]
     },
     "execution_count": 24,
     "metadata": {},
     "output_type": "execute_result"
    }
   ],
   "source": [
    "ro = requests.get(ro_uri)\n",
    "ro.json()"
   ]
  },
  {
   "cell_type": "markdown",
   "metadata": {},
   "source": [
    "### Download Research Object\n",
    "\n",
    "Now we can download the Research Object as a [BagIt archive](https://tools.ietf.org/html/rfc8493) (RFC8493) from the `/research_objects/{id}/bag` resource (currently this REST resource is not listed under `_links`).\n",
    "\n",
    "As this is a binary (ZIP file) we'll use a slightly different Python method to save it to a file."
   ]
  },
  {
   "cell_type": "code",
   "execution_count": 101,
   "metadata": {},
   "outputs": [],
   "source": [
    "import shutil\n",
    "with requests.post(ro_uri + \"/bag\", stream=True) as bag:\n",
    "    r.raise_for_status()\n",
    "    with open(\"bag.zip\", \"wb\") as zipfile:\n",
    "        shutil.copyfileobj(bag.raw, zipfile)"
   ]
  },
  {
   "cell_type": "markdown",
   "metadata": {},
   "source": [
    "Let's check the content of the downloaded zip file."
   ]
  },
  {
   "cell_type": "code",
   "execution_count": 114,
   "metadata": {},
   "outputs": [
    {
     "data": {
      "text/plain": [
       "['data_bundle-20/bag-info.txt',\n",
       " 'data_bundle-20/bagit.txt',\n",
       " 'data_bundle-20/data/content.json',\n",
       " 'data_bundle-20/fetch.txt',\n",
       " 'data_bundle-20/manifest-md5.txt',\n",
       " 'data_bundle-20/manifest-sha256.txt',\n",
       " 'data_bundle-20/manifest-sha512.txt',\n",
       " 'data_bundle-20/metadata/manifest.json',\n",
       " 'data_bundle-20/tagmanifest-md5.txt',\n",
       " 'data_bundle-20/tagmanifest-sha256.txt',\n",
       " 'data_bundle-20/tagmanifest-sha512.txt']"
      ]
     },
     "execution_count": 114,
     "metadata": {},
     "output_type": "execute_result"
    }
   ],
   "source": [
    "import zipfile\n",
    "zip = zipfile.ZipFile('bag.zip')\n",
    "files = zip.namelist()\n",
    "files.sort() # alphabetical order\n",
    "files"
   ]
  },
  {
   "cell_type": "markdown",
   "metadata": {},
   "source": [
    "These paths follows the [BagIt structure](https://tools.ietf.org/html/rfc8493#section-2) where the [Research Object manifest](https://github.com/ResearchObject/bagit-ro) is under `metadata/manifest.json` and the _payload_ is under `data`.\n",
    " \n",
    "You may notice that the two remote files we added are **not** present in the zip file, they are referenced from `fetch.txt` and `manifest-sha256.txt` - this means that even if large files are added to the Research Object, its download ZIP remains small (until the bag is _completed_ using BagIt tools like [BDBag](http://bd2k.ini.usc.edu/tools/bdbag/)).\n"
   ]
  },
  {
   "cell_type": "markdown",
   "metadata": {},
   "source": [
    "### Research Object manifest\n",
    "\n",
    "Let's have a look at `metadata/manifest.json` - the manifest of the Research Object."
   ]
  },
  {
   "cell_type": "code",
   "execution_count": 106,
   "metadata": {},
   "outputs": [
    {
     "data": {
      "text/plain": [
       "{'@context': ['https://w3id.org/bundle/context'],\n",
       " 'id': '../',\n",
       " 'manifest': ['manifest.json'],\n",
       " 'createdOn': '2019-04-24T12:49:45.569Z',\n",
       " 'aggregates': [{'uri': 'https://raw.githubusercontent.com/ResearchObject/research-object-composer/master/examples/repository-sizes.tsv',\n",
       "   'bundledAs': {'uri': 'urn:uuid:cd0f8912-7a6f-42eb-a96c-b2ad67e93824',\n",
       "    'folder': '../data/',\n",
       "    'filename': 'repository-sizes.tsv'}},\n",
       "  {'uri': 'https://raw.githubusercontent.com/ResearchObject/research-object-composer/master/examples/repository-sizes-chart.png',\n",
       "   'bundledAs': {'uri': 'urn:uuid:7f94bf78-c7a9-4caa-9b71-cd7f8b656cca',\n",
       "    'folder': '../data/',\n",
       "    'filename': 'repository-sizes-chart.png'}}]}"
      ]
     },
     "execution_count": 106,
     "metadata": {},
     "output_type": "execute_result"
    }
   ],
   "source": [
    "import json\n",
    "with zip.open(\"data_bundle-20/metadata/manifest.json\") as f:\n",
    "    manifest = json.load(f)\n",
    "manifest"
   ]
  },
  {
   "cell_type": "markdown",
   "metadata": {},
   "source": [
    "In the [Research Object manifest](https://github.com/ResearchObject/bagit-ro) we see the two external files have been aggregated and given local paths and identifiers. Future work mayexplore propagating additional metadata about individual files (e.g. _creator_) into the RO manifest."
   ]
  },
  {
   "cell_type": "markdown",
   "metadata": {},
   "source": [
    "### Filling in metadata\n",
    "\n",
    "\n",
    "Next we'll add sufficient metadata so that the RO can be published and assigned a DOI. A `title` is a good start. As this is a single resource (indicated by `None`) we use `PUT` to replace it's value."
   ]
  },
  {
   "cell_type": "code",
   "execution_count": 48,
   "metadata": {},
   "outputs": [
    {
     "data": {
      "text/plain": [
       "<Response [400]>"
      ]
     },
     "execution_count": 48,
     "metadata": {},
     "output_type": "execute_result"
    }
   ],
   "source": [
    "metadata = requests.put(links[\"_metadata\"][\"href\"], json={\"title\": \"A good start\"})\n",
    "metadata"
   ]
  },
  {
   "cell_type": "code",
   "execution_count": 49,
   "metadata": {},
   "outputs": [
    {
     "data": {
      "text/plain": [
       "{'pointerToViolation': '#',\n",
       " 'message': '#: 2 schema violations found',\n",
       " 'causingExceptions': [{'keyword': 'required',\n",
       "   'pointerToViolation': '#',\n",
       "   'message': '#: required key [description] not found',\n",
       "   'causingExceptions': [],\n",
       "   'schemaLocation': '/schemas/_base.schema.json#/definitions/Metadata'},\n",
       "  {'keyword': 'required',\n",
       "   'pointerToViolation': '#',\n",
       "   'message': '#: required key [creators] not found',\n",
       "   'causingExceptions': [],\n",
       "   'schemaLocation': '/schemas/_base.schema.json#/definitions/Metadata'}],\n",
       " 'schemaLocation': '/schemas/_base.schema.json#/definitions/Metadata'}"
      ]
     },
     "execution_count": 49,
     "metadata": {},
     "output_type": "execute_result"
    }
   ],
   "source": [
    "metadata.json()"
   ]
  },
  {
   "cell_type": "markdown",
   "metadata": {},
   "source": [
    "The attributes correspond to fields in the [DataCite schema](https://schema.datacite.org/), but in JSON instead of XML. We see we also need `description` and `creators`. From the name we guess that `creators` is an array, but we don't know it's fields yet."
   ]
  },
  {
   "cell_type": "code",
   "execution_count": 58,
   "metadata": {},
   "outputs": [
    {
     "data": {
      "text/plain": [
       "{'keyword': 'required',\n",
       " 'pointerToViolation': '#/creators/0',\n",
       " 'message': '#/creators/0: required key [name] not found',\n",
       " 'causingExceptions': [],\n",
       " 'schemaLocation': '/schemas/data_bundle.schema.json#/definitions/Author'}"
      ]
     },
     "execution_count": 58,
     "metadata": {},
     "output_type": "execute_result"
    }
   ],
   "source": [
    "metadata = requests.put(links[\"_metadata\"][\"href\"], json={\"title\": \"A good start\", \n",
    "                                                          \"description\": \"A test dataset of not much interest\",\n",
    "                                                          \"creators\": [{}] })\n",
    "metadata.json()"
   ]
  },
  {
   "cell_type": "markdown",
   "metadata": {},
   "source": [
    "This highlights one of the advantages of this staged approach to filling the Research Object, you trigger any  errors as the item is being set rather than buried deep inside a large schema validation report. \n",
    "\n",
    "Now for the completed metadata, also including [ORCID](http://orcid.org/) to identify the creator."
   ]
  },
  {
   "cell_type": "code",
   "execution_count": 75,
   "metadata": {},
   "outputs": [
    {
     "data": {
      "text/plain": [
       "<Response [200]>"
      ]
     },
     "execution_count": 75,
     "metadata": {},
     "output_type": "execute_result"
    }
   ],
   "source": [
    "metadata = requests.put(links[\"_metadata\"][\"href\"], json=\n",
    "                        { \"title\": \"A good start\", \n",
    "                          \"description\": \"A test dataset of not much interest\",\n",
    "                          \"access_right\": \"open\",\n",
    "                          \"creators\": [{\"name\": \"Alice W Land\", \n",
    "                                        \"orcid\": \"https://orcid.org/0000-0002-1825-0097\"}] })\n",
    "metadata"
   ]
  },
  {
   "cell_type": "markdown",
   "metadata": {},
   "source": [
    "As a RESTful resource we can use `PUT` multiple times in case we change our mind, e.g. if the user was editing equivalent forms in the UI. [Other metadata fields](https://developers.zenodo.org/#representation) from Zenodo can also be added to `_metadata` to be passed on to Zenodo, e.g. `keywords` or `related_identifiers`."
   ]
  },
  {
   "cell_type": "markdown",
   "metadata": {},
   "source": [
    "## Publishing the Research Object\n",
    "\n",
    "Now we can **publish** the Research Object to [Zenodo](https://zenodo.org/) to assign a DOI (**Note**: the demo server this is configured to use [https//sandbox.zenodo.org/](https//sandbox.zenodo.org/) which does not actually issue DOIs).\n",
    "\n",
    "To deposit the RO into the archive we `POST` to the `/research_object/{id}/deposit` resource."
   ]
  },
  {
   "cell_type": "code",
   "execution_count": 76,
   "metadata": {},
   "outputs": [
    {
     "data": {
      "text/plain": [
       "<Response [200]>"
      ]
     },
     "execution_count": 76,
     "metadata": {},
     "output_type": "execute_result"
    }
   ],
   "source": [
    "published = requests.post(ro_uri + \"/deposit\")\n",
    "published"
   ]
  },
  {
   "cell_type": "markdown",
   "metadata": {},
   "source": [
    "Any errors in `metadata` above that caused issues in the [Zenodo API](https://developers.zenodo.org/#quickstart-upload) would have caused an error, but we got **200 OK**, so let's have a look."
   ]
  },
  {
   "cell_type": "code",
   "execution_count": 82,
   "metadata": {},
   "outputs": [
    {
     "name": "stdout",
     "output_type": "stream",
     "text": [
      "https://sandbox.zenodo.org/api/deposit/depositions/275055\n"
     ]
    }
   ],
   "source": [
    "print(published.text)"
   ]
  },
  {
   "cell_type": "markdown",
   "metadata": {},
   "source": [
    "### Inspecting the deposited RO\n",
    "\n",
    "In a browser that is logged in to [https://sandbox.zenodo.org/](https://sandbox.zenodo.org/) you can access the above API resource, and will find something similar to:"
   ]
  },
  {
   "cell_type": "code",
   "execution_count": 99,
   "metadata": {},
   "outputs": [
    {
     "data": {
      "text/plain": [
       "{'conceptdoi': '10.5072/zenodo.275054',\n",
       " 'conceptrecid': '275054',\n",
       " 'created': '2019-04-23T19:07:43.524952+00:00',\n",
       " 'doi': '10.5072/zenodo.275055',\n",
       " 'doi_url': 'https://doi.org/10.5072/zenodo.275055',\n",
       " 'files': [{'checksum': '1f555cdc3d5e5d5e50b5fb4dfef4b99e',\n",
       "   'filename': 'data_bundle-20.zip',\n",
       "   'filesize': 4000,\n",
       "   'id': 'e67803c5-95be-443a-b059-40039bfa9daf',\n",
       "   'links': {'download': 'https://sandbox.zenodo.org/api/files/86ece719-5338-47af-b23f-ff4854e6df9d/data_bundle-20.zip',\n",
       "    'self': 'https://sandbox.zenodo.org/api/deposit/depositions/274851/files/e67803c5-95be-443a-b059-40039bfa9daf'}}],\n",
       " 'id': 275055,\n",
       " 'links': {'badge': 'https://sandbox.zenodo.org/badge/doi/10.5072/zenodo.275055.svg',\n",
       "  'bucket': 'https://sandbox.zenodo.org/api/files/86ece719-5338-47af-b23f-ff4854e6df9d',\n",
       "  'conceptbadge': 'https://sandbox.zenodo.org/badge/doi/10.5072/zenodo.275054.svg',\n",
       "  'conceptdoi': 'https://doi.org/10.5072/zenodo.275054',\n",
       "  'discard': 'https://sandbox.zenodo.org/api/deposit/depositions/275055/actions/discard',\n",
       "  'doi': 'https://doi.org/10.5072/zenodo.275055',\n",
       "  'edit': 'https://sandbox.zenodo.org/api/deposit/depositions/275055/actions/edit',\n",
       "  'files': 'https://sandbox.zenodo.org/api/deposit/depositions/275055/files',\n",
       "  'html': 'https://sandbox.zenodo.org/deposit/275055',\n",
       "  'latest': 'https://sandbox.zenodo.org/api/records/275055',\n",
       "  'latest_html': 'https://sandbox.zenodo.org/record/275055',\n",
       "  'newversion': 'https://sandbox.zenodo.org/api/deposit/depositions/275055/actions/newversion',\n",
       "  'publish': 'https://sandbox.zenodo.org/api/deposit/depositions/275055/actions/publish',\n",
       "  'record': 'https://sandbox.zenodo.org/api/records/275055',\n",
       "  'record_html': 'https://sandbox.zenodo.org/record/275055',\n",
       "  'registerconceptdoi': 'https://sandbox.zenodo.org/api/deposit/depositions/275055/actions/registerconceptdoi',\n",
       "  'self': 'https://sandbox.zenodo.org/api/deposit/depositions/275055'},\n",
       " 'metadata': {'access_right': 'open',\n",
       "  'communities': [{'identifier': 'zenodo'}],\n",
       "  'creators': [{'name': 'Alice W Land', 'orcid': '0000-0002-1825-0097'}],\n",
       "  'description': 'A test dataset of not much interest',\n",
       "  'doi': '10.5072/zenodo.275055',\n",
       "  'license': 'CC0-1.0',\n",
       "  'prereserve_doi': {'doi': '10.5072/zenodo.275055', 'recid': 275055},\n",
       "  'publication_date': '2019-04-23',\n",
       "  'title': 'A good start',\n",
       "  'upload_type': 'dataset',\n",
       "  'version': '7484274FFDD99BC6822AF2F1CF805A5ED5F614C504D57FB6B960A2AD16575931'},\n",
       " 'modified': '2019-04-23T19:07:45.060077+00:00',\n",
       " 'owner': 25426,\n",
       " 'record_id': 275055,\n",
       " 'state': 'done',\n",
       " 'submitted': True,\n",
       " 'title': 'A good start'}"
      ]
     },
     "execution_count": 99,
     "metadata": {},
     "output_type": "execute_result"
    }
   ],
   "source": [
    "{\"conceptdoi\":\"10.5072/zenodo.275054\",\"conceptrecid\":\"275054\",\"created\":\"2019-04-23T19:07:43.524952+00:00\",\"doi\":\"10.5072/zenodo.275055\",\"doi_url\":\"https://doi.org/10.5072/zenodo.275055\",\"files\":[{\"checksum\":\"1f555cdc3d5e5d5e50b5fb4dfef4b99e\",\"filename\":\"data_bundle-20.zip\",\"filesize\":4000,\"id\":\"e67803c5-95be-443a-b059-40039bfa9daf\",\"links\":{\"download\":\"https://sandbox.zenodo.org/api/files/86ece719-5338-47af-b23f-ff4854e6df9d/data_bundle-20.zip\",\"self\":\"https://sandbox.zenodo.org/api/deposit/depositions/274851/files/e67803c5-95be-443a-b059-40039bfa9daf\"}}],\"id\":275055,\"links\":{\"badge\":\"https://sandbox.zenodo.org/badge/doi/10.5072/zenodo.275055.svg\",\"bucket\":\"https://sandbox.zenodo.org/api/files/86ece719-5338-47af-b23f-ff4854e6df9d\",\"conceptbadge\":\"https://sandbox.zenodo.org/badge/doi/10.5072/zenodo.275054.svg\",\"conceptdoi\":\"https://doi.org/10.5072/zenodo.275054\",\"discard\":\"https://sandbox.zenodo.org/api/deposit/depositions/275055/actions/discard\",\"doi\":\"https://doi.org/10.5072/zenodo.275055\",\"edit\":\"https://sandbox.zenodo.org/api/deposit/depositions/275055/actions/edit\",\"files\":\"https://sandbox.zenodo.org/api/deposit/depositions/275055/files\",\"html\":\"https://sandbox.zenodo.org/deposit/275055\",\"latest\":\"https://sandbox.zenodo.org/api/records/275055\",\"latest_html\":\"https://sandbox.zenodo.org/record/275055\",\"newversion\":\"https://sandbox.zenodo.org/api/deposit/depositions/275055/actions/newversion\",\"publish\":\"https://sandbox.zenodo.org/api/deposit/depositions/275055/actions/publish\",\"record\":\"https://sandbox.zenodo.org/api/records/275055\",\"record_html\":\"https://sandbox.zenodo.org/record/275055\",\"registerconceptdoi\":\"https://sandbox.zenodo.org/api/deposit/depositions/275055/actions/registerconceptdoi\",\"self\":\"https://sandbox.zenodo.org/api/deposit/depositions/275055\"},\"metadata\":{\"access_right\":\"open\",\"communities\":[{\"identifier\":\"zenodo\"}],\"creators\":[{\"name\":\"Alice W Land\",\"orcid\":\"0000-0002-1825-0097\"}],\"description\":\"A test dataset of not much interest\",\"doi\":\"10.5072/zenodo.275055\",\"license\":\"CC0-1.0\",\"prereserve_doi\":{\"doi\":\"10.5072/zenodo.275055\",\"recid\":275055},\"publication_date\":\"2019-04-23\",\"title\":\"A good start\",\"upload_type\":\"dataset\",\"version\":\"7484274FFDD99BC6822AF2F1CF805A5ED5F614C504D57FB6B960A2AD16575931\"},\"modified\":\"2019-04-23T19:07:45.060077+00:00\",\"owner\":25426,\"record_id\":275055,\"state\":\"done\",\"submitted\":true,\"title\":\"A good start\"}"
   ]
  },
  {
   "cell_type": "markdown",
   "metadata": {},
   "source": [
    "The `latest_html` key gives the more human-readable Zenodo record for browsers, e.g. [https://sandbox.zenodo.org/record/275055](https://sandbox.zenodo.org/record/275055), while `doi` gives the DOI (which would work on the production Zenodo)\n",
    "\n",
    "We recognize our `metadata` properties, which have been augmented to indicate a `dataset` and the `publication_date`.\n",
    "\n",
    "We can also see that the Research Object appears in the [most recent datasets](https://sandbox.zenodo.org/search?page=1&size=20&type=dataset&sort=mostrecent) on Zenodo."
   ]
  },
  {
   "cell_type": "markdown",
   "metadata": {},
   "source": [
    "## Depositing in other archives\n",
    "\n",
    "It is possible to change the [deposition configuration](https://github.com/ResearchObject/research-object-composer/blob/deposition/src/main/resources/depositor.properties) of the RO composer to support depositing to other archives, e.g. [Mendeley Data](https://data.mendeley.com/), although a corresponding [implementation](https://github.com/ResearchObject/research-object-composer/tree/deposition/src/main/java/uk/org/esciencelab/researchobjectservice/deposition) must be added to the code. \n",
    "\n",
    "Current depositors include Zenodo and pure HTTP Post, but we are also planning a [SWORD](http://swordapp.org/) depositor to support multiple repositories. A remaining challenge here is how to unify the minimum metadata across repositories."
   ]
  },
  {
   "cell_type": "markdown",
   "metadata": {},
   "source": [
    "# Workflow Research Objects\n",
    "\n",
    "Let's now look at the more detailed Research Object profile for capturing [scientific workflows](http://slides.com/soilandreyes/2019-03-11-reproducibility-pistoia). "
   ]
  },
  {
   "cell_type": "code",
   "execution_count": 8,
   "metadata": {},
   "outputs": [
    {
     "data": {
      "text/plain": [
       "{'id': 2,\n",
       " 'name': 'draft_task',\n",
       " 'fields': ['input', 'workflow', 'workflow_params', '_metadata'],\n",
       " '_links': {'self': {'href': 'http://openphacts.cs.man.ac.uk:8080/profiles/draft_task'},\n",
       "  'schema': {'href': 'http://openphacts.cs.man.ac.uk:8080/schemas/draft_task.schema.json'},\n",
       "  'researchObjects': {'href': 'http://openphacts.cs.man.ac.uk:8080/profiles/draft_task/research_objects'}}}"
      ]
     },
     "execution_count": 8,
     "metadata": {},
     "output_type": "execute_result"
    }
   ],
   "source": [
    "wf_profile = profiles[1]\n",
    "wf_profile"
   ]
  },
  {
   "cell_type": "markdown",
   "metadata": {},
   "source": [
    "Corresponding to a (potential) workflow run, we see these research objects have fields `workflow` for the workflow definition, `input` for the workflow input data, and `workflow_params` for the workflow configuration.\n",
    "\n",
    "For the purpose of this demonstration, assume we are going to describe an execution of "
   ]
  },
  {
   "cell_type": "code",
   "execution_count": null,
   "metadata": {},
   "outputs": [],
   "source": []
  },
  {
   "cell_type": "code",
   "execution_count": null,
   "metadata": {},
   "outputs": [],
   "source": []
  }
 ],
 "metadata": {
  "kernelspec": {
   "display_name": "Python 3",
   "language": "python",
   "name": "python3"
  },
  "language_info": {
   "codemirror_mode": {
    "name": "ipython",
    "version": 3
   },
   "file_extension": ".py",
   "mimetype": "text/x-python",
   "name": "python",
   "nbconvert_exporter": "python",
   "pygments_lexer": "ipython3",
   "version": "3.6.7"
  }
 },
 "nbformat": 4,
 "nbformat_minor": 2
}
